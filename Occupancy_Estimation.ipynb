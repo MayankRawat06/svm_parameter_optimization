{
  "cells": [
    {
      "cell_type": "markdown",
      "metadata": {
        "id": "view-in-github",
        "colab_type": "text"
      },
      "source": [
        "<a href=\"https://colab.research.google.com/github/MayankRawat06/svm_parameter_optimization/blob/main/Occupancy_Estimation.ipynb\" target=\"_parent\"><img src=\"https://colab.research.google.com/assets/colab-badge.svg\" alt=\"Open In Colab\"/></a>"
      ]
    },
    {
      "cell_type": "code",
      "execution_count": 1,
      "metadata": {
        "id": "4sZ97NTpVivE"
      },
      "outputs": [],
      "source": [
        "data = read.csv('Occupancy_Estimation.csv')"
      ]
    },
    {
      "cell_type": "code",
      "execution_count": 2,
      "metadata": {
        "colab": {
          "base_uri": "https://localhost:8080/",
          "height": 34
        },
        "id": "1KHCPGTFeufp",
        "outputId": "66704abb-3bd7-45d2-fa77-e81b69cb60c3"
      },
      "outputs": [
        {
          "output_type": "display_data",
          "data": {
            "text/html": [
              "<style>\n",
              ".list-inline {list-style: none; margin:0; padding: 0}\n",
              ".list-inline>li {display: inline-block}\n",
              ".list-inline>li:not(:last-child)::after {content: \"\\00b7\"; padding: 0 .5ex}\n",
              "</style>\n",
              "<ol class=list-inline><li>10129</li><li>19</li></ol>\n"
            ],
            "text/markdown": "1. 10129\n2. 19\n\n\n",
            "text/latex": "\\begin{enumerate*}\n\\item 10129\n\\item 19\n\\end{enumerate*}\n",
            "text/plain": [
              "[1] 10129    19"
            ]
          },
          "metadata": {}
        }
      ],
      "source": [
        "dim(data)"
      ]
    },
    {
      "cell_type": "code",
      "execution_count": 3,
      "metadata": {
        "id": "4DydAYBbeDtO"
      },
      "outputs": [],
      "source": [
        "df <- data[sample(nrow(data), size=5000), ]"
      ]
    },
    {
      "cell_type": "code",
      "execution_count": 4,
      "metadata": {
        "colab": {
          "base_uri": "https://localhost:8080/",
          "height": 303
        },
        "id": "7m3SlIyHbugQ",
        "outputId": "e56cc767-4d5f-4bbd-a0ad-fe98f6230c2a"
      },
      "outputs": [
        {
          "output_type": "display_data",
          "data": {
            "text/html": [
              "<table class=\"dataframe\">\n",
              "<caption>A data.frame: 6 × 19</caption>\n",
              "<thead>\n",
              "\t<tr><th></th><th scope=col>Date</th><th scope=col>Time</th><th scope=col>S1_Temp</th><th scope=col>S2_Temp</th><th scope=col>S3_Temp</th><th scope=col>S4_Temp</th><th scope=col>S1_Light</th><th scope=col>S2_Light</th><th scope=col>S3_Light</th><th scope=col>S4_Light</th><th scope=col>S1_Sound</th><th scope=col>S2_Sound</th><th scope=col>S3_Sound</th><th scope=col>S4_Sound</th><th scope=col>S5_CO2</th><th scope=col>S5_CO2_Slope</th><th scope=col>S6_PIR</th><th scope=col>S7_PIR</th><th scope=col>Room_Occupancy_Count</th></tr>\n",
              "\t<tr><th></th><th scope=col>&lt;chr&gt;</th><th scope=col>&lt;chr&gt;</th><th scope=col>&lt;dbl&gt;</th><th scope=col>&lt;dbl&gt;</th><th scope=col>&lt;dbl&gt;</th><th scope=col>&lt;dbl&gt;</th><th scope=col>&lt;int&gt;</th><th scope=col>&lt;int&gt;</th><th scope=col>&lt;int&gt;</th><th scope=col>&lt;int&gt;</th><th scope=col>&lt;dbl&gt;</th><th scope=col>&lt;dbl&gt;</th><th scope=col>&lt;dbl&gt;</th><th scope=col>&lt;dbl&gt;</th><th scope=col>&lt;int&gt;</th><th scope=col>&lt;dbl&gt;</th><th scope=col>&lt;int&gt;</th><th scope=col>&lt;int&gt;</th><th scope=col>&lt;int&gt;</th></tr>\n",
              "</thead>\n",
              "<tbody>\n",
              "\t<tr><th scope=row>469</th><td>2017/12/22</td><td>15:18:46</td><td>25.81</td><td>25.88</td><td>25.69</td><td>26.31</td><td> 13</td><td>17</td><td>80</td><td>50</td><td>0.08</td><td>0.05</td><td>0.06</td><td>0.06</td><td>630</td><td>-2.67307692</td><td>0</td><td>0</td><td>0</td></tr>\n",
              "\t<tr><th scope=row>2722</th><td>2017/12/23</td><td>10:52:04</td><td>25.13</td><td>25.13</td><td>24.81</td><td>25.69</td><td> 10</td><td>12</td><td>52</td><td>35</td><td>0.09</td><td>0.06</td><td>0.07</td><td>0.06</td><td>360</td><td> 0.12307692</td><td>0</td><td>0</td><td>0</td></tr>\n",
              "\t<tr><th scope=row>6410</th><td>2017/12/25</td><td>18:43:02</td><td>25.44</td><td>25.44</td><td>25.13</td><td>26.00</td><td>  0</td><td> 0</td><td> 0</td><td> 0</td><td>0.08</td><td>0.06</td><td>0.06</td><td>0.09</td><td>355</td><td> 0.05384615</td><td>0</td><td>0</td><td>0</td></tr>\n",
              "\t<tr><th scope=row>2869</th><td>2017/12/23</td><td>12:07:38</td><td>25.44</td><td>25.31</td><td>25.06</td><td>25.88</td><td>124</td><td>37</td><td>70</td><td>50</td><td>1.63</td><td>0.53</td><td>0.59</td><td>0.21</td><td>365</td><td> 0.26153846</td><td>0</td><td>0</td><td>1</td></tr>\n",
              "\t<tr><th scope=row>7491</th><td>2017/12/26</td><td>04:03:40</td><td>25.31</td><td>25.31</td><td>24.81</td><td>25.69</td><td>  0</td><td> 0</td><td> 0</td><td> 0</td><td>0.07</td><td>0.05</td><td>0.06</td><td>0.10</td><td>355</td><td> 0.00000000</td><td>0</td><td>0</td><td>0</td></tr>\n",
              "\t<tr><th scope=row>9815</th><td>2018/01/11</td><td>06:17:47</td><td>25.13</td><td>25.06</td><td>24.56</td><td>25.19</td><td>  0</td><td> 0</td><td> 0</td><td> 0</td><td>0.08</td><td>0.04</td><td>0.05</td><td>0.09</td><td>345</td><td> 0.00000000</td><td>0</td><td>0</td><td>0</td></tr>\n",
              "</tbody>\n",
              "</table>\n"
            ],
            "text/markdown": "\nA data.frame: 6 × 19\n\n| <!--/--> | Date &lt;chr&gt; | Time &lt;chr&gt; | S1_Temp &lt;dbl&gt; | S2_Temp &lt;dbl&gt; | S3_Temp &lt;dbl&gt; | S4_Temp &lt;dbl&gt; | S1_Light &lt;int&gt; | S2_Light &lt;int&gt; | S3_Light &lt;int&gt; | S4_Light &lt;int&gt; | S1_Sound &lt;dbl&gt; | S2_Sound &lt;dbl&gt; | S3_Sound &lt;dbl&gt; | S4_Sound &lt;dbl&gt; | S5_CO2 &lt;int&gt; | S5_CO2_Slope &lt;dbl&gt; | S6_PIR &lt;int&gt; | S7_PIR &lt;int&gt; | Room_Occupancy_Count &lt;int&gt; |\n|---|---|---|---|---|---|---|---|---|---|---|---|---|---|---|---|---|---|---|---|\n| 469 | 2017/12/22 | 15:18:46 | 25.81 | 25.88 | 25.69 | 26.31 |  13 | 17 | 80 | 50 | 0.08 | 0.05 | 0.06 | 0.06 | 630 | -2.67307692 | 0 | 0 | 0 |\n| 2722 | 2017/12/23 | 10:52:04 | 25.13 | 25.13 | 24.81 | 25.69 |  10 | 12 | 52 | 35 | 0.09 | 0.06 | 0.07 | 0.06 | 360 |  0.12307692 | 0 | 0 | 0 |\n| 6410 | 2017/12/25 | 18:43:02 | 25.44 | 25.44 | 25.13 | 26.00 |   0 |  0 |  0 |  0 | 0.08 | 0.06 | 0.06 | 0.09 | 355 |  0.05384615 | 0 | 0 | 0 |\n| 2869 | 2017/12/23 | 12:07:38 | 25.44 | 25.31 | 25.06 | 25.88 | 124 | 37 | 70 | 50 | 1.63 | 0.53 | 0.59 | 0.21 | 365 |  0.26153846 | 0 | 0 | 1 |\n| 7491 | 2017/12/26 | 04:03:40 | 25.31 | 25.31 | 24.81 | 25.69 |   0 |  0 |  0 |  0 | 0.07 | 0.05 | 0.06 | 0.10 | 355 |  0.00000000 | 0 | 0 | 0 |\n| 9815 | 2018/01/11 | 06:17:47 | 25.13 | 25.06 | 24.56 | 25.19 |   0 |  0 |  0 |  0 | 0.08 | 0.04 | 0.05 | 0.09 | 345 |  0.00000000 | 0 | 0 | 0 |\n\n",
            "text/latex": "A data.frame: 6 × 19\n\\begin{tabular}{r|lllllllllllllllllll}\n  & Date & Time & S1\\_Temp & S2\\_Temp & S3\\_Temp & S4\\_Temp & S1\\_Light & S2\\_Light & S3\\_Light & S4\\_Light & S1\\_Sound & S2\\_Sound & S3\\_Sound & S4\\_Sound & S5\\_CO2 & S5\\_CO2\\_Slope & S6\\_PIR & S7\\_PIR & Room\\_Occupancy\\_Count\\\\\n  & <chr> & <chr> & <dbl> & <dbl> & <dbl> & <dbl> & <int> & <int> & <int> & <int> & <dbl> & <dbl> & <dbl> & <dbl> & <int> & <dbl> & <int> & <int> & <int>\\\\\n\\hline\n\t469 & 2017/12/22 & 15:18:46 & 25.81 & 25.88 & 25.69 & 26.31 &  13 & 17 & 80 & 50 & 0.08 & 0.05 & 0.06 & 0.06 & 630 & -2.67307692 & 0 & 0 & 0\\\\\n\t2722 & 2017/12/23 & 10:52:04 & 25.13 & 25.13 & 24.81 & 25.69 &  10 & 12 & 52 & 35 & 0.09 & 0.06 & 0.07 & 0.06 & 360 &  0.12307692 & 0 & 0 & 0\\\\\n\t6410 & 2017/12/25 & 18:43:02 & 25.44 & 25.44 & 25.13 & 26.00 &   0 &  0 &  0 &  0 & 0.08 & 0.06 & 0.06 & 0.09 & 355 &  0.05384615 & 0 & 0 & 0\\\\\n\t2869 & 2017/12/23 & 12:07:38 & 25.44 & 25.31 & 25.06 & 25.88 & 124 & 37 & 70 & 50 & 1.63 & 0.53 & 0.59 & 0.21 & 365 &  0.26153846 & 0 & 0 & 1\\\\\n\t7491 & 2017/12/26 & 04:03:40 & 25.31 & 25.31 & 24.81 & 25.69 &   0 &  0 &  0 &  0 & 0.07 & 0.05 & 0.06 & 0.10 & 355 &  0.00000000 & 0 & 0 & 0\\\\\n\t9815 & 2018/01/11 & 06:17:47 & 25.13 & 25.06 & 24.56 & 25.19 &   0 &  0 &  0 &  0 & 0.08 & 0.04 & 0.05 & 0.09 & 345 &  0.00000000 & 0 & 0 & 0\\\\\n\\end{tabular}\n",
            "text/plain": [
              "     Date       Time     S1_Temp S2_Temp S3_Temp S4_Temp S1_Light S2_Light\n",
              "469  2017/12/22 15:18:46 25.81   25.88   25.69   26.31    13      17      \n",
              "2722 2017/12/23 10:52:04 25.13   25.13   24.81   25.69    10      12      \n",
              "6410 2017/12/25 18:43:02 25.44   25.44   25.13   26.00     0       0      \n",
              "2869 2017/12/23 12:07:38 25.44   25.31   25.06   25.88   124      37      \n",
              "7491 2017/12/26 04:03:40 25.31   25.31   24.81   25.69     0       0      \n",
              "9815 2018/01/11 06:17:47 25.13   25.06   24.56   25.19     0       0      \n",
              "     S3_Light S4_Light S1_Sound S2_Sound S3_Sound S4_Sound S5_CO2 S5_CO2_Slope\n",
              "469  80       50       0.08     0.05     0.06     0.06     630    -2.67307692 \n",
              "2722 52       35       0.09     0.06     0.07     0.06     360     0.12307692 \n",
              "6410  0        0       0.08     0.06     0.06     0.09     355     0.05384615 \n",
              "2869 70       50       1.63     0.53     0.59     0.21     365     0.26153846 \n",
              "7491  0        0       0.07     0.05     0.06     0.10     355     0.00000000 \n",
              "9815  0        0       0.08     0.04     0.05     0.09     345     0.00000000 \n",
              "     S6_PIR S7_PIR Room_Occupancy_Count\n",
              "469  0      0      0                   \n",
              "2722 0      0      0                   \n",
              "6410 0      0      0                   \n",
              "2869 0      0      1                   \n",
              "7491 0      0      0                   \n",
              "9815 0      0      0                   "
            ]
          },
          "metadata": {}
        }
      ],
      "source": [
        "head(df)"
      ]
    },
    {
      "cell_type": "code",
      "execution_count": 5,
      "metadata": {
        "id": "rs1gjRSge5wr"
      },
      "outputs": [],
      "source": [
        "df$Date = NULL\n",
        "df$Time = NULL"
      ]
    },
    {
      "cell_type": "code",
      "execution_count": 6,
      "metadata": {
        "colab": {
          "base_uri": "https://localhost:8080/",
          "height": 68
        },
        "id": "vnXiap6TcQN5",
        "outputId": "70c1844f-2c30-4958-d58f-e9e2124ec519"
      },
      "outputs": [
        {
          "output_type": "display_data",
          "data": {
            "text/html": [
              "<style>\n",
              ".dl-inline {width: auto; margin:0; padding: 0}\n",
              ".dl-inline>dt, .dl-inline>dd {float: none; width: auto; display: inline-block}\n",
              ".dl-inline>dt::after {content: \":\\0020\"; padding-right: .5ex}\n",
              ".dl-inline>dt:not(:first-of-type) {padding-left: .5ex}\n",
              "</style><dl class=dl-inline><dt>S1_Temp</dt><dd>'numeric'</dd><dt>S2_Temp</dt><dd>'numeric'</dd><dt>S3_Temp</dt><dd>'numeric'</dd><dt>S4_Temp</dt><dd>'numeric'</dd><dt>S1_Light</dt><dd>'integer'</dd><dt>S2_Light</dt><dd>'integer'</dd><dt>S3_Light</dt><dd>'integer'</dd><dt>S4_Light</dt><dd>'integer'</dd><dt>S1_Sound</dt><dd>'numeric'</dd><dt>S2_Sound</dt><dd>'numeric'</dd><dt>S3_Sound</dt><dd>'numeric'</dd><dt>S4_Sound</dt><dd>'numeric'</dd><dt>S5_CO2</dt><dd>'integer'</dd><dt>S5_CO2_Slope</dt><dd>'numeric'</dd><dt>S6_PIR</dt><dd>'integer'</dd><dt>S7_PIR</dt><dd>'integer'</dd><dt>Room_Occupancy_Count</dt><dd>'integer'</dd></dl>\n"
            ],
            "text/markdown": "S1_Temp\n:   'numeric'S2_Temp\n:   'numeric'S3_Temp\n:   'numeric'S4_Temp\n:   'numeric'S1_Light\n:   'integer'S2_Light\n:   'integer'S3_Light\n:   'integer'S4_Light\n:   'integer'S1_Sound\n:   'numeric'S2_Sound\n:   'numeric'S3_Sound\n:   'numeric'S4_Sound\n:   'numeric'S5_CO2\n:   'integer'S5_CO2_Slope\n:   'numeric'S6_PIR\n:   'integer'S7_PIR\n:   'integer'Room_Occupancy_Count\n:   'integer'\n\n",
            "text/latex": "\\begin{description*}\n\\item[S1\\textbackslash{}\\_Temp] 'numeric'\n\\item[S2\\textbackslash{}\\_Temp] 'numeric'\n\\item[S3\\textbackslash{}\\_Temp] 'numeric'\n\\item[S4\\textbackslash{}\\_Temp] 'numeric'\n\\item[S1\\textbackslash{}\\_Light] 'integer'\n\\item[S2\\textbackslash{}\\_Light] 'integer'\n\\item[S3\\textbackslash{}\\_Light] 'integer'\n\\item[S4\\textbackslash{}\\_Light] 'integer'\n\\item[S1\\textbackslash{}\\_Sound] 'numeric'\n\\item[S2\\textbackslash{}\\_Sound] 'numeric'\n\\item[S3\\textbackslash{}\\_Sound] 'numeric'\n\\item[S4\\textbackslash{}\\_Sound] 'numeric'\n\\item[S5\\textbackslash{}\\_CO2] 'integer'\n\\item[S5\\textbackslash{}\\_CO2\\textbackslash{}\\_Slope] 'numeric'\n\\item[S6\\textbackslash{}\\_PIR] 'integer'\n\\item[S7\\textbackslash{}\\_PIR] 'integer'\n\\item[Room\\textbackslash{}\\_Occupancy\\textbackslash{}\\_Count] 'integer'\n\\end{description*}\n",
            "text/plain": [
              "             S1_Temp              S2_Temp              S3_Temp \n",
              "           \"numeric\"            \"numeric\"            \"numeric\" \n",
              "             S4_Temp             S1_Light             S2_Light \n",
              "           \"numeric\"            \"integer\"            \"integer\" \n",
              "            S3_Light             S4_Light             S1_Sound \n",
              "           \"integer\"            \"integer\"            \"numeric\" \n",
              "            S2_Sound             S3_Sound             S4_Sound \n",
              "           \"numeric\"            \"numeric\"            \"numeric\" \n",
              "              S5_CO2         S5_CO2_Slope               S6_PIR \n",
              "           \"integer\"            \"numeric\"            \"integer\" \n",
              "              S7_PIR Room_Occupancy_Count \n",
              "           \"integer\"            \"integer\" "
            ]
          },
          "metadata": {}
        }
      ],
      "source": [
        "sapply(df, class)"
      ]
    },
    {
      "cell_type": "code",
      "execution_count": 7,
      "metadata": {
        "colab": {
          "base_uri": "https://localhost:8080/",
          "height": 612
        },
        "id": "DGqJSAGXcz5M",
        "outputId": "116235d1-ced1-42dd-83ad-b8a09cebe209"
      },
      "outputs": [
        {
          "output_type": "display_data",
          "data": {
            "text/plain": [
              "    S1_Temp         S2_Temp         S3_Temp         S4_Temp     \n",
              " Min.   :24.94   Min.   :24.75   Min.   :24.44   Min.   :24.94  \n",
              " 1st Qu.:25.19   1st Qu.:25.19   1st Qu.:24.69   1st Qu.:25.44  \n",
              " Median :25.38   Median :25.38   Median :25.00   Median :25.75  \n",
              " Mean   :25.46   Mean   :25.55   Mean   :25.06   Mean   :25.76  \n",
              " 3rd Qu.:25.63   3rd Qu.:25.63   3rd Qu.:25.38   3rd Qu.:26.00  \n",
              " Max.   :26.38   Max.   :29.00   Max.   :26.19   Max.   :26.50  \n",
              "    S1_Light         S2_Light         S3_Light         S4_Light    \n",
              " Min.   :  0.00   Min.   :  0.00   Min.   :  0.00   Min.   : 0.00  \n",
              " 1st Qu.:  0.00   1st Qu.:  0.00   1st Qu.:  0.00   1st Qu.: 0.00  \n",
              " Median :  0.00   Median :  0.00   Median :  0.00   Median : 0.00  \n",
              " Mean   : 25.72   Mean   : 25.75   Mean   : 34.18   Mean   :13.23  \n",
              " 3rd Qu.: 12.00   3rd Qu.: 14.00   3rd Qu.: 50.00   3rd Qu.:22.00  \n",
              " Max.   :165.00   Max.   :258.00   Max.   :280.00   Max.   :74.00  \n",
              "    S1_Sound        S2_Sound         S3_Sound         S4_Sound     \n",
              " Min.   :0.060   Min.   :0.0400   Min.   :0.0400   Min.   :0.0500  \n",
              " 1st Qu.:0.070   1st Qu.:0.0500   1st Qu.:0.0600   1st Qu.:0.0600  \n",
              " Median :0.080   Median :0.0500   Median :0.0600   Median :0.0800  \n",
              " Mean   :0.168   Mean   :0.1196   Mean   :0.1546   Mean   :0.1046  \n",
              " 3rd Qu.:0.080   3rd Qu.:0.0600   3rd Qu.:0.0700   3rd Qu.:0.1000  \n",
              " Max.   :3.880   Max.   :3.4400   Max.   :3.6700   Max.   :3.4000  \n",
              "     S5_CO2        S5_CO2_Slope           S6_PIR           S7_PIR      \n",
              " Min.   : 345.0   Min.   :-6.296154   Min.   :0.0000   Min.   :0.0000  \n",
              " 1st Qu.: 355.0   1st Qu.:-0.053846   1st Qu.:0.0000   1st Qu.:0.0000  \n",
              " Median : 360.0   Median : 0.000000   Median :0.0000   Median :0.0000  \n",
              " Mean   : 462.3   Mean   :-0.008772   Mean   :0.0926   Mean   :0.0788  \n",
              " 3rd Qu.: 470.0   3rd Qu.: 0.000000   3rd Qu.:0.0000   3rd Qu.:0.0000  \n",
              " Max.   :1270.0   Max.   : 8.946154   Max.   :1.0000   Max.   :1.0000  \n",
              " Room_Occupancy_Count\n",
              " Min.   :0.0000      \n",
              " 1st Qu.:0.0000      \n",
              " Median :0.0000      \n",
              " Mean   :0.3956      \n",
              " 3rd Qu.:0.0000      \n",
              " Max.   :3.0000      "
            ]
          },
          "metadata": {}
        }
      ],
      "source": [
        "summary(df)"
      ]
    },
    {
      "cell_type": "code",
      "execution_count": 8,
      "metadata": {
        "colab": {
          "base_uri": "https://localhost:8080/",
          "height": 34
        },
        "id": "DIQAChraTMRz",
        "outputId": "41d68094-3121-46ba-f970-6135f97778b0"
      },
      "outputs": [
        {
          "output_type": "display_data",
          "data": {
            "text/html": [
              "<style>\n",
              ".list-inline {list-style: none; margin:0; padding: 0}\n",
              ".list-inline>li {display: inline-block}\n",
              ".list-inline>li:not(:last-child)::after {content: \"\\00b7\"; padding: 0 .5ex}\n",
              "</style>\n",
              "<ol class=list-inline><li>5000</li><li>17</li></ol>\n"
            ],
            "text/markdown": "1. 5000\n2. 17\n\n\n",
            "text/latex": "\\begin{enumerate*}\n\\item 5000\n\\item 17\n\\end{enumerate*}\n",
            "text/plain": [
              "[1] 5000   17"
            ]
          },
          "metadata": {}
        }
      ],
      "source": [
        "dim(df)"
      ]
    },
    {
      "cell_type": "code",
      "execution_count": 9,
      "metadata": {
        "colab": {
          "base_uri": "https://localhost:8080/",
          "height": 34
        },
        "id": "jYYTawH0c5Wd",
        "outputId": "7a81a561-3408-4563-bcbd-bddedfef7a71"
      },
      "outputs": [
        {
          "output_type": "display_data",
          "data": {
            "text/html": [
              "0"
            ],
            "text/markdown": "0",
            "text/latex": "0",
            "text/plain": [
              "[1] 0"
            ]
          },
          "metadata": {}
        }
      ],
      "source": [
        "sum(is.na(df))"
      ]
    },
    {
      "cell_type": "code",
      "execution_count": 10,
      "metadata": {
        "colab": {
          "base_uri": "https://localhost:8080/"
        },
        "id": "GfWarol8lUJq",
        "outputId": "08aa5786-606d-4398-dcb7-3d1f0540f8ae"
      },
      "outputs": [
        {
          "output_type": "stream",
          "name": "stderr",
          "text": [
            "Installing package into ‘/usr/local/lib/R/site-library’\n",
            "(as ‘lib’ is unspecified)\n",
            "\n"
          ]
        }
      ],
      "source": [
        "install.packages(\"caTools\")"
      ]
    },
    {
      "cell_type": "code",
      "execution_count": 11,
      "metadata": {
        "id": "KjRmdOUu-dCZ"
      },
      "outputs": [],
      "source": [
        "df$Room_Occupancy_Count = as.factor(df$Room_Occupancy_Count)"
      ]
    },
    {
      "cell_type": "code",
      "execution_count": 12,
      "metadata": {
        "id": "-WIAc6lQlO8n"
      },
      "outputs": [],
      "source": [
        "library(caTools)\n",
        "\n",
        "#make this example reproducible\n",
        "set.seed(1)\n",
        "\n",
        "#use 70% of dataset as training set and 30% as test set\n",
        "sample <- sample.split(df$Room_Occupancy_Count, SplitRatio = 0.7)\n",
        "train  <- subset(df, sample == TRUE)\n",
        "test   <- subset(df, sample == FALSE)\n",
        "train_target <- train$Room_Occupancy_Count\n",
        "train_predictors <- train[, -which(names(train) == \"Room_Occupancy_Count\")]\n",
        "test_target <- test$Room_Occupancy_Count\n",
        "test_predictors <- test[, -which(names(test) == \"Room_Occupancy_Count\")]"
      ]
    },
    {
      "cell_type": "code",
      "execution_count": 13,
      "metadata": {
        "colab": {
          "base_uri": "https://localhost:8080/",
          "height": 437
        },
        "id": "LmCmBZvSc_l-",
        "outputId": "89d3a48e-f0d5-4c63-9e77-5edb75f4528e"
      },
      "outputs": [
        {
          "output_type": "display_data",
          "data": {
            "text/plain": [
              "Plot with title “Pie Chart of Room_Occupancy_Count”"
            ],
            "image/png": "[encoded data removed]"
          },
          "metadata": {
            "image/png": {
              "width": 420,
              "height": 420
            }
          }
        }
      ],
      "source": [
        "mytable <- table(df$Room_Occupancy_Count)\n",
        "lbls <- paste(names(mytable), \"\\n\", mytable, sep=\"\")\n",
        "pie(mytable,\n",
        "    labels = lbls,\n",
        "    main=\"Pie Chart of Room_Occupancy_Count\")"
      ]
    },
    {
      "cell_type": "code",
      "execution_count": null,
      "metadata": {
        "colab": {
          "base_uri": "https://localhost:8080/"
        },
        "id": "TrPNobRTfnti",
        "outputId": "0eca26a9-2fca-464c-efb9-8641f1dda4a9"
      },
      "outputs": [
        {
          "name": "stderr",
          "output_type": "stream",
          "text": [
            "Installing package into ‘/usr/local/lib/R/site-library’\n",
            "(as ‘lib’ is unspecified)\n",
            "\n"
          ]
        }
      ],
      "source": [
        "install.packages(\"kernlab\")"
      ]
    },
    {
      "cell_type": "code",
      "execution_count": 14,
      "metadata": {
        "id": "a5aZp-iGfdnP"
      },
      "outputs": [],
      "source": [
        "library(kernlab)"
      ]
    },
    {
      "cell_type": "code",
      "execution_count": 15,
      "metadata": {
        "id": "kOhzsFDlfxem"
      },
      "outputs": [],
      "source": [
        "bestAccuracy = 0\n",
        "bestKernel = \"\"\n",
        "bestNu = 0\n",
        "bestEpsilon = 0\n",
        "iteration = 1000\n",
        "kernelList = c('rbfdot', 'polydot', 'vanilladot', 'tanhdot', 'laplacedot', 'anovadot')"
      ]
    },
    {
      "cell_type": "code",
      "execution_count": 16,
      "metadata": {
        "id": "SWskb5I6J4ri"
      },
      "outputs": [],
      "source": [
        "columns = c(\"iteration\",\"Accuracy\",\"Kernal\",\"Nu\",\"Epsilon\") \n",
        "result = data.frame(matrix(nrow = 0, ncol = length(columns))) \n",
        "colnames(result) = columns"
      ]
    },
    {
      "cell_type": "code",
      "execution_count": 17,
      "metadata": {
        "colab": {
          "base_uri": "https://localhost:8080/",
          "height": 97
        },
        "id": "VOBHzxLFLFSV",
        "outputId": "16beb291-1210-4937-aaf6-5e5f03380acd"
      },
      "outputs": [
        {
          "output_type": "display_data",
          "data": {
            "text/html": [
              "<table class=\"dataframe\">\n",
              "<caption>A data.frame: 0 × 5</caption>\n",
              "<thead>\n",
              "\t<tr><th scope=col>iteration</th><th scope=col>Accuracy</th><th scope=col>Kernal</th><th scope=col>Nu</th><th scope=col>Epsilon</th></tr>\n",
              "\t<tr><th scope=col>&lt;lgl&gt;</th><th scope=col>&lt;lgl&gt;</th><th scope=col>&lt;lgl&gt;</th><th scope=col>&lt;lgl&gt;</th><th scope=col>&lt;lgl&gt;</th></tr>\n",
              "</thead>\n",
              "<tbody>\n",
              "</tbody>\n",
              "</table>\n"
            ],
            "text/markdown": "\nA data.frame: 0 × 5\n\n| iteration &lt;lgl&gt; | Accuracy &lt;lgl&gt; | Kernal &lt;lgl&gt; | Nu &lt;lgl&gt; | Epsilon &lt;lgl&gt; |\n|---|---|---|---|---|\n\n",
            "text/latex": "A data.frame: 0 × 5\n\\begin{tabular}{lllll}\n iteration & Accuracy & Kernal & Nu & Epsilon\\\\\n <lgl> & <lgl> & <lgl> & <lgl> & <lgl>\\\\\n\\hline\n\\end{tabular}\n",
            "text/plain": [
              "     iteration Accuracy Kernal Nu Epsilon"
            ]
          },
          "metadata": {}
        }
      ],
      "source": [
        "result"
      ]
    },
    {
      "cell_type": "code",
      "execution_count": 18,
      "metadata": {
        "id": "5bl-MJNQgVa-"
      },
      "outputs": [],
      "source": [
        "fitnessFunction <- function(k,n,e){\n",
        "  #k=\"Kernel\" , n=\"Nu\", e=\"Epsilon\"\n",
        "  # Model Building (Training)\n",
        "  model = ksvm(Room_Occupancy_Count ~ .,data = train, kernel = k, nu = n, epsilon = e, kpar=list())\n",
        "  # Prediction (Testing)\n",
        "  test_predictions <- predict(model, test_predictors)\n",
        "  # Model Evaluation: Accuracy\n",
        "  accuracy <- round(mean(test_predictions == test_target) * 100, 2)\n",
        "  return(accuracy)\n",
        "}"
      ]
    },
    {
      "cell_type": "code",
      "execution_count": 19,
      "metadata": {
        "id": "HuJXBt1Qgxd9"
      },
      "outputs": [],
      "source": [
        "for(i in 1 : iteration) {\n",
        "  k = sample(kernelList, 1)\n",
        "  n = runif(1)\n",
        "  e = runif(1)\n",
        "  Accuracy = fitnessFunction(k, n, e)\n",
        "  \n",
        "  if(Accuracy > bestAccuracy) {\n",
        "    bestKernel = k\n",
        "    bestNu = n\n",
        "    bestEpsilon = e\n",
        "    bestAccuracy = Accuracy\n",
        "  }\n",
        "  v = c(i, bestAccuracy, bestKernel, bestNu, bestEpsilon)\n",
        "  result = rbind(result, v)\n",
        "}"
      ]
    },
    {
      "cell_type": "code",
      "execution_count": 20,
      "metadata": {
        "colab": {
          "base_uri": "https://localhost:8080/",
          "height": 1000
        },
        "id": "2y_5mZiCSDEU",
        "outputId": "53fc59ab-f733-4eea-cb0d-8e0abe6b45e4"
      },
      "outputs": [
        {
          "output_type": "display_data",
          "data": {
            "text/html": [
              "<table class=\"dataframe\">\n",
              "<caption>A data.frame: 1000 × 5</caption>\n",
              "<thead>\n",
              "\t<tr><th scope=col>X.1.</th><th scope=col>X.99.4.</th><th scope=col>X.polydot.</th><th scope=col>X.0.317978880601004.</th><th scope=col>X.0.321120504522696.</th></tr>\n",
              "\t<tr><th scope=col>&lt;chr&gt;</th><th scope=col>&lt;chr&gt;</th><th scope=col>&lt;chr&gt;</th><th scope=col>&lt;chr&gt;</th><th scope=col>&lt;chr&gt;</th></tr>\n",
              "</thead>\n",
              "<tbody>\n",
              "\t<tr><td>1 </td><td>99.4 </td><td>polydot </td><td>0.317978880601004 </td><td>0.321120504522696</td></tr>\n",
              "\t<tr><td>2 </td><td>99.4 </td><td>polydot </td><td>0.317978880601004 </td><td>0.321120504522696</td></tr>\n",
              "\t<tr><td>3 </td><td>99.4 </td><td>polydot </td><td>0.317978880601004 </td><td>0.321120504522696</td></tr>\n",
              "\t<tr><td>4 </td><td>99.4 </td><td>polydot </td><td>0.317978880601004 </td><td>0.321120504522696</td></tr>\n",
              "\t<tr><td>5 </td><td>99.4 </td><td>polydot </td><td>0.317978880601004 </td><td>0.321120504522696</td></tr>\n",
              "\t<tr><td>6 </td><td>99.4 </td><td>polydot </td><td>0.317978880601004 </td><td>0.321120504522696</td></tr>\n",
              "\t<tr><td>7 </td><td>99.4 </td><td>polydot </td><td>0.317978880601004 </td><td>0.321120504522696</td></tr>\n",
              "\t<tr><td>8 </td><td>99.4 </td><td>polydot </td><td>0.317978880601004 </td><td>0.321120504522696</td></tr>\n",
              "\t<tr><td>9 </td><td>99.53</td><td>anovadot</td><td>0.0437531450297683</td><td>0.775772524066269</td></tr>\n",
              "\t<tr><td>10</td><td>99.53</td><td>anovadot</td><td>0.0437531450297683</td><td>0.775772524066269</td></tr>\n",
              "\t<tr><td>11</td><td>99.53</td><td>anovadot</td><td>0.0437531450297683</td><td>0.775772524066269</td></tr>\n",
              "\t<tr><td>12</td><td>99.53</td><td>anovadot</td><td>0.0437531450297683</td><td>0.775772524066269</td></tr>\n",
              "\t<tr><td>13</td><td>99.53</td><td>anovadot</td><td>0.0437531450297683</td><td>0.775772524066269</td></tr>\n",
              "\t<tr><td>14</td><td>99.53</td><td>anovadot</td><td>0.0437531450297683</td><td>0.775772524066269</td></tr>\n",
              "\t<tr><td>15</td><td>99.53</td><td>anovadot</td><td>0.0437531450297683</td><td>0.775772524066269</td></tr>\n",
              "\t<tr><td>16</td><td>99.53</td><td>anovadot</td><td>0.0437531450297683</td><td>0.775772524066269</td></tr>\n",
              "\t<tr><td>17</td><td>99.53</td><td>anovadot</td><td>0.0437531450297683</td><td>0.775772524066269</td></tr>\n",
              "\t<tr><td>18</td><td>99.53</td><td>anovadot</td><td>0.0437531450297683</td><td>0.775772524066269</td></tr>\n",
              "\t<tr><td>19</td><td>99.53</td><td>anovadot</td><td>0.0437531450297683</td><td>0.775772524066269</td></tr>\n",
              "\t<tr><td>20</td><td>99.53</td><td>anovadot</td><td>0.0437531450297683</td><td>0.775772524066269</td></tr>\n",
              "\t<tr><td>21</td><td>99.53</td><td>anovadot</td><td>0.0437531450297683</td><td>0.775772524066269</td></tr>\n",
              "\t<tr><td>22</td><td>99.53</td><td>anovadot</td><td>0.0437531450297683</td><td>0.775772524066269</td></tr>\n",
              "\t<tr><td>23</td><td>99.53</td><td>anovadot</td><td>0.0437531450297683</td><td>0.775772524066269</td></tr>\n",
              "\t<tr><td>24</td><td>99.53</td><td>anovadot</td><td>0.0437531450297683</td><td>0.775772524066269</td></tr>\n",
              "\t<tr><td>25</td><td>99.53</td><td>anovadot</td><td>0.0437531450297683</td><td>0.775772524066269</td></tr>\n",
              "\t<tr><td>26</td><td>99.53</td><td>anovadot</td><td>0.0437531450297683</td><td>0.775772524066269</td></tr>\n",
              "\t<tr><td>27</td><td>99.53</td><td>anovadot</td><td>0.0437531450297683</td><td>0.775772524066269</td></tr>\n",
              "\t<tr><td>28</td><td>99.53</td><td>anovadot</td><td>0.0437531450297683</td><td>0.775772524066269</td></tr>\n",
              "\t<tr><td>29</td><td>99.53</td><td>anovadot</td><td>0.0437531450297683</td><td>0.775772524066269</td></tr>\n",
              "\t<tr><td>30</td><td>99.53</td><td>anovadot</td><td>0.0437531450297683</td><td>0.775772524066269</td></tr>\n",
              "\t<tr><td>⋮</td><td>⋮</td><td>⋮</td><td>⋮</td><td>⋮</td></tr>\n",
              "\t<tr><td>971 </td><td>99.53</td><td>anovadot</td><td>0.0437531450297683</td><td>0.775772524066269</td></tr>\n",
              "\t<tr><td>972 </td><td>99.53</td><td>anovadot</td><td>0.0437531450297683</td><td>0.775772524066269</td></tr>\n",
              "\t<tr><td>973 </td><td>99.53</td><td>anovadot</td><td>0.0437531450297683</td><td>0.775772524066269</td></tr>\n",
              "\t<tr><td>974 </td><td>99.53</td><td>anovadot</td><td>0.0437531450297683</td><td>0.775772524066269</td></tr>\n",
              "\t<tr><td>975 </td><td>99.53</td><td>anovadot</td><td>0.0437531450297683</td><td>0.775772524066269</td></tr>\n",
              "\t<tr><td>976 </td><td>99.53</td><td>anovadot</td><td>0.0437531450297683</td><td>0.775772524066269</td></tr>\n",
              "\t<tr><td>977 </td><td>99.53</td><td>anovadot</td><td>0.0437531450297683</td><td>0.775772524066269</td></tr>\n",
              "\t<tr><td>978 </td><td>99.53</td><td>anovadot</td><td>0.0437531450297683</td><td>0.775772524066269</td></tr>\n",
              "\t<tr><td>979 </td><td>99.53</td><td>anovadot</td><td>0.0437531450297683</td><td>0.775772524066269</td></tr>\n",
              "\t<tr><td>980 </td><td>99.53</td><td>anovadot</td><td>0.0437531450297683</td><td>0.775772524066269</td></tr>\n",
              "\t<tr><td>981 </td><td>99.53</td><td>anovadot</td><td>0.0437531450297683</td><td>0.775772524066269</td></tr>\n",
              "\t<tr><td>982 </td><td>99.53</td><td>anovadot</td><td>0.0437531450297683</td><td>0.775772524066269</td></tr>\n",
              "\t<tr><td>983 </td><td>99.53</td><td>anovadot</td><td>0.0437531450297683</td><td>0.775772524066269</td></tr>\n",
              "\t<tr><td>984 </td><td>99.53</td><td>anovadot</td><td>0.0437531450297683</td><td>0.775772524066269</td></tr>\n",
              "\t<tr><td>985 </td><td>99.53</td><td>anovadot</td><td>0.0437531450297683</td><td>0.775772524066269</td></tr>\n",
              "\t<tr><td>986 </td><td>99.53</td><td>anovadot</td><td>0.0437531450297683</td><td>0.775772524066269</td></tr>\n",
              "\t<tr><td>987 </td><td>99.53</td><td>anovadot</td><td>0.0437531450297683</td><td>0.775772524066269</td></tr>\n",
              "\t<tr><td>988 </td><td>99.53</td><td>anovadot</td><td>0.0437531450297683</td><td>0.775772524066269</td></tr>\n",
              "\t<tr><td>989 </td><td>99.53</td><td>anovadot</td><td>0.0437531450297683</td><td>0.775772524066269</td></tr>\n",
              "\t<tr><td>990 </td><td>99.53</td><td>anovadot</td><td>0.0437531450297683</td><td>0.775772524066269</td></tr>\n",
              "\t<tr><td>991 </td><td>99.53</td><td>anovadot</td><td>0.0437531450297683</td><td>0.775772524066269</td></tr>\n",
              "\t<tr><td>992 </td><td>99.53</td><td>anovadot</td><td>0.0437531450297683</td><td>0.775772524066269</td></tr>\n",
              "\t<tr><td>993 </td><td>99.53</td><td>anovadot</td><td>0.0437531450297683</td><td>0.775772524066269</td></tr>\n",
              "\t<tr><td>994 </td><td>99.53</td><td>anovadot</td><td>0.0437531450297683</td><td>0.775772524066269</td></tr>\n",
              "\t<tr><td>995 </td><td>99.53</td><td>anovadot</td><td>0.0437531450297683</td><td>0.775772524066269</td></tr>\n",
              "\t<tr><td>996 </td><td>99.53</td><td>anovadot</td><td>0.0437531450297683</td><td>0.775772524066269</td></tr>\n",
              "\t<tr><td>997 </td><td>99.53</td><td>anovadot</td><td>0.0437531450297683</td><td>0.775772524066269</td></tr>\n",
              "\t<tr><td>998 </td><td>99.53</td><td>anovadot</td><td>0.0437531450297683</td><td>0.775772524066269</td></tr>\n",
              "\t<tr><td>999 </td><td>99.53</td><td>anovadot</td><td>0.0437531450297683</td><td>0.775772524066269</td></tr>\n",
              "\t<tr><td>1000</td><td>99.53</td><td>anovadot</td><td>0.0437531450297683</td><td>0.775772524066269</td></tr>\n",
              "</tbody>\n",
              "</table>\n"
            ],
            "text/markdown": "\nA data.frame: 1000 × 5\n\n| X.1. &lt;chr&gt; | X.99.4. &lt;chr&gt; | X.polydot. &lt;chr&gt; | X.0.317978880601004. &lt;chr&gt; | X.0.321120504522696. &lt;chr&gt; |\n|---|---|---|---|---|\n| 1  | 99.4  | polydot  | 0.317978880601004  | 0.321120504522696 |\n| 2  | 99.4  | polydot  | 0.317978880601004  | 0.321120504522696 |\n| 3  | 99.4  | polydot  | 0.317978880601004  | 0.321120504522696 |\n| 4  | 99.4  | polydot  | 0.317978880601004  | 0.321120504522696 |\n| 5  | 99.4  | polydot  | 0.317978880601004  | 0.321120504522696 |\n| 6  | 99.4  | polydot  | 0.317978880601004  | 0.321120504522696 |\n| 7  | 99.4  | polydot  | 0.317978880601004  | 0.321120504522696 |\n| 8  | 99.4  | polydot  | 0.317978880601004  | 0.321120504522696 |\n| 9  | 99.53 | anovadot | 0.0437531450297683 | 0.775772524066269 |\n| 10 | 99.53 | anovadot | 0.0437531450297683 | 0.775772524066269 |\n| 11 | 99.53 | anovadot | 0.0437531450297683 | 0.775772524066269 |\n| 12 | 99.53 | anovadot | 0.0437531450297683 | 0.775772524066269 |\n| 13 | 99.53 | anovadot | 0.0437531450297683 | 0.775772524066269 |\n| 14 | 99.53 | anovadot | 0.0437531450297683 | 0.775772524066269 |\n| 15 | 99.53 | anovadot | 0.0437531450297683 | 0.775772524066269 |\n| 16 | 99.53 | anovadot | 0.0437531450297683 | 0.775772524066269 |\n| 17 | 99.53 | anovadot | 0.0437531450297683 | 0.775772524066269 |\n| 18 | 99.53 | anovadot | 0.0437531450297683 | 0.775772524066269 |\n| 19 | 99.53 | anovadot | 0.0437531450297683 | 0.775772524066269 |\n| 20 | 99.53 | anovadot | 0.0437531450297683 | 0.775772524066269 |\n| 21 | 99.53 | anovadot | 0.0437531450297683 | 0.775772524066269 |\n| 22 | 99.53 | anovadot | 0.0437531450297683 | 0.775772524066269 |\n| 23 | 99.53 | anovadot | 0.0437531450297683 | 0.775772524066269 |\n| 24 | 99.53 | anovadot | 0.0437531450297683 | 0.775772524066269 |\n| 25 | 99.53 | anovadot | 0.0437531450297683 | 0.775772524066269 |\n| 26 | 99.53 | anovadot | 0.0437531450297683 | 0.775772524066269 |\n| 27 | 99.53 | anovadot | 0.0437531450297683 | 0.775772524066269 |\n| 28 | 99.53 | anovadot | 0.0437531450297683 | 0.775772524066269 |\n| 29 | 99.53 | anovadot | 0.0437531450297683 | 0.775772524066269 |\n| 30 | 99.53 | anovadot | 0.0437531450297683 | 0.775772524066269 |\n| ⋮ | ⋮ | ⋮ | ⋮ | ⋮ |\n| 971  | 99.53 | anovadot | 0.0437531450297683 | 0.775772524066269 |\n| 972  | 99.53 | anovadot | 0.0437531450297683 | 0.775772524066269 |\n| 973  | 99.53 | anovadot | 0.0437531450297683 | 0.775772524066269 |\n| 974  | 99.53 | anovadot | 0.0437531450297683 | 0.775772524066269 |\n| 975  | 99.53 | anovadot | 0.0437531450297683 | 0.775772524066269 |\n| 976  | 99.53 | anovadot | 0.0437531450297683 | 0.775772524066269 |\n| 977  | 99.53 | anovadot | 0.0437531450297683 | 0.775772524066269 |\n| 978  | 99.53 | anovadot | 0.0437531450297683 | 0.775772524066269 |\n| 979  | 99.53 | anovadot | 0.0437531450297683 | 0.775772524066269 |\n| 980  | 99.53 | anovadot | 0.0437531450297683 | 0.775772524066269 |\n| 981  | 99.53 | anovadot | 0.0437531450297683 | 0.775772524066269 |\n| 982  | 99.53 | anovadot | 0.0437531450297683 | 0.775772524066269 |\n| 983  | 99.53 | anovadot | 0.0437531450297683 | 0.775772524066269 |\n| 984  | 99.53 | anovadot | 0.0437531450297683 | 0.775772524066269 |\n| 985  | 99.53 | anovadot | 0.0437531450297683 | 0.775772524066269 |\n| 986  | 99.53 | anovadot | 0.0437531450297683 | 0.775772524066269 |\n| 987  | 99.53 | anovadot | 0.0437531450297683 | 0.775772524066269 |\n| 988  | 99.53 | anovadot | 0.0437531450297683 | 0.775772524066269 |\n| 989  | 99.53 | anovadot | 0.0437531450297683 | 0.775772524066269 |\n| 990  | 99.53 | anovadot | 0.0437531450297683 | 0.775772524066269 |\n| 991  | 99.53 | anovadot | 0.0437531450297683 | 0.775772524066269 |\n| 992  | 99.53 | anovadot | 0.0437531450297683 | 0.775772524066269 |\n| 993  | 99.53 | anovadot | 0.0437531450297683 | 0.775772524066269 |\n| 994  | 99.53 | anovadot | 0.0437531450297683 | 0.775772524066269 |\n| 995  | 99.53 | anovadot | 0.0437531450297683 | 0.775772524066269 |\n| 996  | 99.53 | anovadot | 0.0437531450297683 | 0.775772524066269 |\n| 997  | 99.53 | anovadot | 0.0437531450297683 | 0.775772524066269 |\n| 998  | 99.53 | anovadot | 0.0437531450297683 | 0.775772524066269 |\n| 999  | 99.53 | anovadot | 0.0437531450297683 | 0.775772524066269 |\n| 1000 | 99.53 | anovadot | 0.0437531450297683 | 0.775772524066269 |\n\n",
            "text/latex": "A data.frame: 1000 × 5\n\\begin{tabular}{lllll}\n X.1. & X.99.4. & X.polydot. & X.0.317978880601004. & X.0.321120504522696.\\\\\n <chr> & <chr> & <chr> & <chr> & <chr>\\\\\n\\hline\n\t 1  & 99.4  & polydot  & 0.317978880601004  & 0.321120504522696\\\\\n\t 2  & 99.4  & polydot  & 0.317978880601004  & 0.321120504522696\\\\\n\t 3  & 99.4  & polydot  & 0.317978880601004  & 0.321120504522696\\\\\n\t 4  & 99.4  & polydot  & 0.317978880601004  & 0.321120504522696\\\\\n\t 5  & 99.4  & polydot  & 0.317978880601004  & 0.321120504522696\\\\\n\t 6  & 99.4  & polydot  & 0.317978880601004  & 0.321120504522696\\\\\n\t 7  & 99.4  & polydot  & 0.317978880601004  & 0.321120504522696\\\\\n\t 8  & 99.4  & polydot  & 0.317978880601004  & 0.321120504522696\\\\\n\t 9  & 99.53 & anovadot & 0.0437531450297683 & 0.775772524066269\\\\\n\t 10 & 99.53 & anovadot & 0.0437531450297683 & 0.775772524066269\\\\\n\t 11 & 99.53 & anovadot & 0.0437531450297683 & 0.775772524066269\\\\\n\t 12 & 99.53 & anovadot & 0.0437531450297683 & 0.775772524066269\\\\\n\t 13 & 99.53 & anovadot & 0.0437531450297683 & 0.775772524066269\\\\\n\t 14 & 99.53 & anovadot & 0.0437531450297683 & 0.775772524066269\\\\\n\t 15 & 99.53 & anovadot & 0.0437531450297683 & 0.775772524066269\\\\\n\t 16 & 99.53 & anovadot & 0.0437531450297683 & 0.775772524066269\\\\\n\t 17 & 99.53 & anovadot & 0.0437531450297683 & 0.775772524066269\\\\\n\t 18 & 99.53 & anovadot & 0.0437531450297683 & 0.775772524066269\\\\\n\t 19 & 99.53 & anovadot & 0.0437531450297683 & 0.775772524066269\\\\\n\t 20 & 99.53 & anovadot & 0.0437531450297683 & 0.775772524066269\\\\\n\t 21 & 99.53 & anovadot & 0.0437531450297683 & 0.775772524066269\\\\\n\t 22 & 99.53 & anovadot & 0.0437531450297683 & 0.775772524066269\\\\\n\t 23 & 99.53 & anovadot & 0.0437531450297683 & 0.775772524066269\\\\\n\t 24 & 99.53 & anovadot & 0.0437531450297683 & 0.775772524066269\\\\\n\t 25 & 99.53 & anovadot & 0.0437531450297683 & 0.775772524066269\\\\\n\t 26 & 99.53 & anovadot & 0.0437531450297683 & 0.775772524066269\\\\\n\t 27 & 99.53 & anovadot & 0.0437531450297683 & 0.775772524066269\\\\\n\t 28 & 99.53 & anovadot & 0.0437531450297683 & 0.775772524066269\\\\\n\t 29 & 99.53 & anovadot & 0.0437531450297683 & 0.775772524066269\\\\\n\t 30 & 99.53 & anovadot & 0.0437531450297683 & 0.775772524066269\\\\\n\t ⋮ & ⋮ & ⋮ & ⋮ & ⋮\\\\\n\t 971  & 99.53 & anovadot & 0.0437531450297683 & 0.775772524066269\\\\\n\t 972  & 99.53 & anovadot & 0.0437531450297683 & 0.775772524066269\\\\\n\t 973  & 99.53 & anovadot & 0.0437531450297683 & 0.775772524066269\\\\\n\t 974  & 99.53 & anovadot & 0.0437531450297683 & 0.775772524066269\\\\\n\t 975  & 99.53 & anovadot & 0.0437531450297683 & 0.775772524066269\\\\\n\t 976  & 99.53 & anovadot & 0.0437531450297683 & 0.775772524066269\\\\\n\t 977  & 99.53 & anovadot & 0.0437531450297683 & 0.775772524066269\\\\\n\t 978  & 99.53 & anovadot & 0.0437531450297683 & 0.775772524066269\\\\\n\t 979  & 99.53 & anovadot & 0.0437531450297683 & 0.775772524066269\\\\\n\t 980  & 99.53 & anovadot & 0.0437531450297683 & 0.775772524066269\\\\\n\t 981  & 99.53 & anovadot & 0.0437531450297683 & 0.775772524066269\\\\\n\t 982  & 99.53 & anovadot & 0.0437531450297683 & 0.775772524066269\\\\\n\t 983  & 99.53 & anovadot & 0.0437531450297683 & 0.775772524066269\\\\\n\t 984  & 99.53 & anovadot & 0.0437531450297683 & 0.775772524066269\\\\\n\t 985  & 99.53 & anovadot & 0.0437531450297683 & 0.775772524066269\\\\\n\t 986  & 99.53 & anovadot & 0.0437531450297683 & 0.775772524066269\\\\\n\t 987  & 99.53 & anovadot & 0.0437531450297683 & 0.775772524066269\\\\\n\t 988  & 99.53 & anovadot & 0.0437531450297683 & 0.775772524066269\\\\\n\t 989  & 99.53 & anovadot & 0.0437531450297683 & 0.775772524066269\\\\\n\t 990  & 99.53 & anovadot & 0.0437531450297683 & 0.775772524066269\\\\\n\t 991  & 99.53 & anovadot & 0.0437531450297683 & 0.775772524066269\\\\\n\t 992  & 99.53 & anovadot & 0.0437531450297683 & 0.775772524066269\\\\\n\t 993  & 99.53 & anovadot & 0.0437531450297683 & 0.775772524066269\\\\\n\t 994  & 99.53 & anovadot & 0.0437531450297683 & 0.775772524066269\\\\\n\t 995  & 99.53 & anovadot & 0.0437531450297683 & 0.775772524066269\\\\\n\t 996  & 99.53 & anovadot & 0.0437531450297683 & 0.775772524066269\\\\\n\t 997  & 99.53 & anovadot & 0.0437531450297683 & 0.775772524066269\\\\\n\t 998  & 99.53 & anovadot & 0.0437531450297683 & 0.775772524066269\\\\\n\t 999  & 99.53 & anovadot & 0.0437531450297683 & 0.775772524066269\\\\\n\t 1000 & 99.53 & anovadot & 0.0437531450297683 & 0.775772524066269\\\\\n\\end{tabular}\n",
            "text/plain": [
              "     X.1. X.99.4. X.polydot. X.0.317978880601004. X.0.321120504522696.\n",
              "1    1    99.4    polydot    0.317978880601004    0.321120504522696   \n",
              "2    2    99.4    polydot    0.317978880601004    0.321120504522696   \n",
              "3    3    99.4    polydot    0.317978880601004    0.321120504522696   \n",
              "4    4    99.4    polydot    0.317978880601004    0.321120504522696   \n",
              "5    5    99.4    polydot    0.317978880601004    0.321120504522696   \n",
              "6    6    99.4    polydot    0.317978880601004    0.321120504522696   \n",
              "7    7    99.4    polydot    0.317978880601004    0.321120504522696   \n",
              "8    8    99.4    polydot    0.317978880601004    0.321120504522696   \n",
              "9    9    99.53   anovadot   0.0437531450297683   0.775772524066269   \n",
              "10   10   99.53   anovadot   0.0437531450297683   0.775772524066269   \n",
              "11   11   99.53   anovadot   0.0437531450297683   0.775772524066269   \n",
              "12   12   99.53   anovadot   0.0437531450297683   0.775772524066269   \n",
              "13   13   99.53   anovadot   0.0437531450297683   0.775772524066269   \n",
              "14   14   99.53   anovadot   0.0437531450297683   0.775772524066269   \n",
              "15   15   99.53   anovadot   0.0437531450297683   0.775772524066269   \n",
              "16   16   99.53   anovadot   0.0437531450297683   0.775772524066269   \n",
              "17   17   99.53   anovadot   0.0437531450297683   0.775772524066269   \n",
              "18   18   99.53   anovadot   0.0437531450297683   0.775772524066269   \n",
              "19   19   99.53   anovadot   0.0437531450297683   0.775772524066269   \n",
              "20   20   99.53   anovadot   0.0437531450297683   0.775772524066269   \n",
              "21   21   99.53   anovadot   0.0437531450297683   0.775772524066269   \n",
              "22   22   99.53   anovadot   0.0437531450297683   0.775772524066269   \n",
              "23   23   99.53   anovadot   0.0437531450297683   0.775772524066269   \n",
              "24   24   99.53   anovadot   0.0437531450297683   0.775772524066269   \n",
              "25   25   99.53   anovadot   0.0437531450297683   0.775772524066269   \n",
              "26   26   99.53   anovadot   0.0437531450297683   0.775772524066269   \n",
              "27   27   99.53   anovadot   0.0437531450297683   0.775772524066269   \n",
              "28   28   99.53   anovadot   0.0437531450297683   0.775772524066269   \n",
              "29   29   99.53   anovadot   0.0437531450297683   0.775772524066269   \n",
              "30   30   99.53   anovadot   0.0437531450297683   0.775772524066269   \n",
              "⋮    ⋮    ⋮       ⋮          ⋮                    ⋮                   \n",
              "971  971  99.53   anovadot   0.0437531450297683   0.775772524066269   \n",
              "972  972  99.53   anovadot   0.0437531450297683   0.775772524066269   \n",
              "973  973  99.53   anovadot   0.0437531450297683   0.775772524066269   \n",
              "974  974  99.53   anovadot   0.0437531450297683   0.775772524066269   \n",
              "975  975  99.53   anovadot   0.0437531450297683   0.775772524066269   \n",
              "976  976  99.53   anovadot   0.0437531450297683   0.775772524066269   \n",
              "977  977  99.53   anovadot   0.0437531450297683   0.775772524066269   \n",
              "978  978  99.53   anovadot   0.0437531450297683   0.775772524066269   \n",
              "979  979  99.53   anovadot   0.0437531450297683   0.775772524066269   \n",
              "980  980  99.53   anovadot   0.0437531450297683   0.775772524066269   \n",
              "981  981  99.53   anovadot   0.0437531450297683   0.775772524066269   \n",
              "982  982  99.53   anovadot   0.0437531450297683   0.775772524066269   \n",
              "983  983  99.53   anovadot   0.0437531450297683   0.775772524066269   \n",
              "984  984  99.53   anovadot   0.0437531450297683   0.775772524066269   \n",
              "985  985  99.53   anovadot   0.0437531450297683   0.775772524066269   \n",
              "986  986  99.53   anovadot   0.0437531450297683   0.775772524066269   \n",
              "987  987  99.53   anovadot   0.0437531450297683   0.775772524066269   \n",
              "988  988  99.53   anovadot   0.0437531450297683   0.775772524066269   \n",
              "989  989  99.53   anovadot   0.0437531450297683   0.775772524066269   \n",
              "990  990  99.53   anovadot   0.0437531450297683   0.775772524066269   \n",
              "991  991  99.53   anovadot   0.0437531450297683   0.775772524066269   \n",
              "992  992  99.53   anovadot   0.0437531450297683   0.775772524066269   \n",
              "993  993  99.53   anovadot   0.0437531450297683   0.775772524066269   \n",
              "994  994  99.53   anovadot   0.0437531450297683   0.775772524066269   \n",
              "995  995  99.53   anovadot   0.0437531450297683   0.775772524066269   \n",
              "996  996  99.53   anovadot   0.0437531450297683   0.775772524066269   \n",
              "997  997  99.53   anovadot   0.0437531450297683   0.775772524066269   \n",
              "998  998  99.53   anovadot   0.0437531450297683   0.775772524066269   \n",
              "999  999  99.53   anovadot   0.0437531450297683   0.775772524066269   \n",
              "1000 1000 99.53   anovadot   0.0437531450297683   0.775772524066269   "
            ]
          },
          "metadata": {}
        }
      ],
      "source": [
        "result"
      ]
    },
    {
      "cell_type": "code",
      "execution_count": 21,
      "metadata": {
        "id": "WyU5TM8RkuTC"
      },
      "outputs": [],
      "source": [
        "colnames(result) = c(\"iteration\",\"BestAccuracy\",\"BestKernal\",\"BestNu\",\"BestEpsilon\") "
      ]
    },
    {
      "cell_type": "code",
      "execution_count": 22,
      "metadata": {
        "id": "M7D0_8UCkivS"
      },
      "outputs": [],
      "source": [
        "write.csv(result, \"result.csv\", row.names=FALSE)"
      ]
    },
    {
      "cell_type": "code",
      "execution_count": 23,
      "metadata": {
        "colab": {
          "base_uri": "https://localhost:8080/",
          "height": 34
        },
        "id": "PwFUK1aqnqX2",
        "outputId": "fd0e9dc4-3d3e-4f91-884f-b13070d871e7"
      },
      "outputs": [
        {
          "output_type": "display_data",
          "data": {
            "text/html": [
              "<style>\n",
              ".dl-inline {width: auto; margin:0; padding: 0}\n",
              ".dl-inline>dt, .dl-inline>dd {float: none; width: auto; display: inline-block}\n",
              ".dl-inline>dt::after {content: \":\\0020\"; padding-right: .5ex}\n",
              ".dl-inline>dt:not(:first-of-type) {padding-left: .5ex}\n",
              "</style><dl class=dl-inline><dt>iteration</dt><dd>'character'</dd><dt>BestAccuracy</dt><dd>'character'</dd><dt>BestKernal</dt><dd>'character'</dd><dt>BestNu</dt><dd>'character'</dd><dt>BestEpsilon</dt><dd>'character'</dd></dl>\n"
            ],
            "text/markdown": "iteration\n:   'character'BestAccuracy\n:   'character'BestKernal\n:   'character'BestNu\n:   'character'BestEpsilon\n:   'character'\n\n",
            "text/latex": "\\begin{description*}\n\\item[iteration] 'character'\n\\item[BestAccuracy] 'character'\n\\item[BestKernal] 'character'\n\\item[BestNu] 'character'\n\\item[BestEpsilon] 'character'\n\\end{description*}\n",
            "text/plain": [
              "   iteration BestAccuracy   BestKernal       BestNu  BestEpsilon \n",
              " \"character\"  \"character\"  \"character\"  \"character\"  \"character\" "
            ]
          },
          "metadata": {}
        }
      ],
      "source": [
        "sapply(result, class)"
      ]
    },
    {
      "cell_type": "code",
      "execution_count": 24,
      "metadata": {
        "id": "BsPIcFQfoDQe"
      },
      "outputs": [],
      "source": [
        "temp = result"
      ]
    },
    {
      "cell_type": "code",
      "execution_count": 25,
      "metadata": {
        "id": "psWJnm5LoAtR"
      },
      "outputs": [],
      "source": [
        "temp$BestAccuracy = as.numeric(temp$BestAccuracy)\n",
        "temp$iteration = as.numeric(temp$iteration)"
      ]
    },
    {
      "cell_type": "code",
      "execution_count": 26,
      "metadata": {
        "colab": {
          "base_uri": "https://localhost:8080/"
        },
        "id": "NK0AbRQrp6vR",
        "outputId": "08f8b10e-938c-4c7d-969f-105009adae5b"
      },
      "outputs": [
        {
          "output_type": "stream",
          "name": "stderr",
          "text": [
            "\n",
            "Attaching package: ‘ggplot2’\n",
            "\n",
            "\n",
            "The following object is masked from ‘package:kernlab’:\n",
            "\n",
            "    alpha\n",
            "\n",
            "\n"
          ]
        }
      ],
      "source": [
        "library(ggplot2)"
      ]
    },
    {
      "cell_type": "code",
      "execution_count": 27,
      "metadata": {
        "colab": {
          "base_uri": "https://localhost:8080/",
          "height": 437
        },
        "id": "7Bc7rCt2qBCj",
        "outputId": "e98edae2-b286-4ec7-a249-66467630a9ef"
      },
      "outputs": [
        {
          "output_type": "display_data",
          "data": {
            "text/plain": [
              "plot without title"
            ],
            "image/png": "[encoded data removed]"
          },
          "metadata": {
            "image/png": {
              "width": 420,
              "height": 420
            }
          }
        }
      ],
      "source": [
        "ggplot(temp, aes(x = iteration, y = BestAccuracy)) + geom_line()"
      ]
    },
    {
      "cell_type": "code",
      "execution_count": 28,
      "metadata": {
        "id": "4HiohiJOugft",
        "colab": {
          "base_uri": "https://localhost:8080/"
        },
        "outputId": "9c3c6d66-14b2-43b8-caec-f62767ea1a12"
      },
      "outputs": [
        {
          "output_type": "stream",
          "name": "stderr",
          "text": [
            "\u001b[1m\u001b[22mSaving 6.67 x 6.67 in image\n"
          ]
        }
      ],
      "source": [
        "ggsave(\"resultG.png\")"
      ]
    },
    {
      "cell_type": "code",
      "execution_count": 29,
      "metadata": {
        "colab": {
          "base_uri": "https://localhost:8080/",
          "height": 34
        },
        "id": "-I1Zpx9Y_2gL",
        "outputId": "c0606a99-1c43-4866-bc60-1a30b5fd8a03"
      },
      "outputs": [
        {
          "output_type": "display_data",
          "data": {
            "text/html": [
              "99.53"
            ],
            "text/markdown": "99.53",
            "text/latex": "99.53",
            "text/plain": [
              "[1] 99.53"
            ]
          },
          "metadata": {}
        }
      ],
      "source": [
        "bestAccuracy"
      ]
    },
    {
      "cell_type": "code",
      "execution_count": 30,
      "metadata": {
        "colab": {
          "base_uri": "https://localhost:8080/",
          "height": 34
        },
        "id": "olyxvliF_82e",
        "outputId": "dd4e94a1-1620-4fbc-d993-b39c8386a6d0"
      },
      "outputs": [
        {
          "output_type": "display_data",
          "data": {
            "text/html": [
              "'anovadot'"
            ],
            "text/markdown": "'anovadot'",
            "text/latex": "'anovadot'",
            "text/plain": [
              "[1] \"anovadot\""
            ]
          },
          "metadata": {}
        }
      ],
      "source": [
        "bestKernel"
      ]
    },
    {
      "cell_type": "code",
      "execution_count": 31,
      "metadata": {
        "colab": {
          "base_uri": "https://localhost:8080/",
          "height": 34
        },
        "id": "CH7lRrTkowR0",
        "outputId": "1d9bdbfe-fe31-4304-9c33-ac595fe2528d"
      },
      "outputs": [
        {
          "output_type": "display_data",
          "data": {
            "text/html": [
              "0.0437531450297683"
            ],
            "text/markdown": "0.0437531450297683",
            "text/latex": "0.0437531450297683",
            "text/plain": [
              "[1] 0.04375315"
            ]
          },
          "metadata": {}
        }
      ],
      "source": [
        "bestNu"
      ]
    },
    {
      "cell_type": "code",
      "execution_count": 32,
      "metadata": {
        "colab": {
          "base_uri": "https://localhost:8080/",
          "height": 34
        },
        "id": "o_SKJRxMox9T",
        "outputId": "a5480486-360b-4339-ba82-80197d0020af"
      },
      "outputs": [
        {
          "output_type": "display_data",
          "data": {
            "text/html": [
              "0.775772524066269"
            ],
            "text/markdown": "0.775772524066269",
            "text/latex": "0.775772524066269",
            "text/plain": [
              "[1] 0.7757725"
            ]
          },
          "metadata": {}
        }
      ],
      "source": [
        "bestEpsilon"
      ]
    }
  ],
  "metadata": {
    "colab": {
      "provenance": [],
      "authorship_tag": "ABX9TyMA1Iv7JHkg6n2svjNBkLwU",
      "include_colab_link": true
    },
    "kernelspec": {
      "display_name": "R",
      "name": "ir"
    },
    "language_info": {
      "name": "R"
    }
  },
  "nbformat": 4,
  "nbformat_minor": 0
}